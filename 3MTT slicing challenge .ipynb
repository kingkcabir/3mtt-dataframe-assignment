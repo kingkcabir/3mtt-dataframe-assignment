{
 "cells": [
  {
   "cell_type": "code",
   "execution_count": 3,
   "id": "83cf4324",
   "metadata": {},
   "outputs": [
    {
     "name": "stdout",
     "output_type": "stream",
     "text": [
      "[0.0, 78]\n"
     ]
    }
   ],
   "source": [
    "#creating list of strings, floats, and int\n",
    "x = ['you', 34, 2, 0.1, 89, 'hi', 'pot', 'glacier', 0.678, 0.00, 78]\n",
    "#printing the last two elements\n",
    "print(x[-2:])"
   ]
  },
  {
   "cell_type": "code",
   "execution_count": null,
   "id": "1abdc42f",
   "metadata": {},
   "outputs": [],
   "source": []
  },
  {
   "cell_type": "code",
   "execution_count": null,
   "id": "6a509dec",
   "metadata": {},
   "outputs": [],
   "source": []
  }
 ],
 "metadata": {
  "kernelspec": {
   "display_name": "Python 3 (ipykernel)",
   "language": "python",
   "name": "python3"
  },
  "language_info": {
   "codemirror_mode": {
    "name": "ipython",
    "version": 3
   },
   "file_extension": ".py",
   "mimetype": "text/x-python",
   "name": "python",
   "nbconvert_exporter": "python",
   "pygments_lexer": "ipython3",
   "version": "3.11.4"
  }
 },
 "nbformat": 4,
 "nbformat_minor": 5
}
