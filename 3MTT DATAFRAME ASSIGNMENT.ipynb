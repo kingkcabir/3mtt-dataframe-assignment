{
 "cells": [
  {
   "cell_type": "code",
   "execution_count": 4,
   "id": "766a2cf8",
   "metadata": {},
   "outputs": [
    {
     "name": "stdout",
     "output_type": "stream",
     "text": [
      "      Name  Age  Country\n",
      "0    Adisa   13  Nigeria\n",
      "1     John   17      USA\n",
      "2    Silas   25  Britain\n",
      "3    Bambo   48  Nigeria\n",
      "4    Karim   76  Germany\n",
      "5  Adeyemi   20   canada\n"
     ]
    }
   ],
   "source": [
    "import pandas as pd\n",
    "\n",
    "#creating the dictionary \n",
    "my_table = {'Name' : ['Adisa', 'John','Silas', 'Bambo', 'Karim', 'Adeyemi'],\n",
    "            'Age' : [13, 17, 25, 48, 76, 20],\n",
    "            'Country' : ['Nigeria', 'USA', 'Britain', 'Nigeria', 'Germany', 'canada']}\n",
    "\n",
    "#displaying the content\n",
    "print(pd.DataFrame(my_table))"
   ]
  },
  {
   "cell_type": "code",
   "execution_count": null,
   "id": "94514c0b",
   "metadata": {},
   "outputs": [],
   "source": []
  }
 ],
 "metadata": {
  "kernelspec": {
   "display_name": "Python 3 (ipykernel)",
   "language": "python",
   "name": "python3"
  },
  "language_info": {
   "codemirror_mode": {
    "name": "ipython",
    "version": 3
   },
   "file_extension": ".py",
   "mimetype": "text/x-python",
   "name": "python",
   "nbconvert_exporter": "python",
   "pygments_lexer": "ipython3",
   "version": "3.11.4"
  }
 },
 "nbformat": 4,
 "nbformat_minor": 5
}
